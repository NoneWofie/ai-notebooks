{
 "cells": [
  {
   "cell_type": "code",
   "execution_count": 1,
   "metadata": {},
   "outputs": [
    {
     "data": {
      "text/plain": [
       "'1.13.1'"
      ]
     },
     "execution_count": 1,
     "metadata": {},
     "output_type": "execute_result"
    }
   ],
   "source": [
    "import numpy as np \n",
    "import pandas as pd \n",
    "import matplotlib.pyplot as plt\n",
    "\n",
    "import torch \n",
    "from torch import nn\n",
    "from torch.nn import functional as F\n",
    "\n",
    "torch.__version__"
   ]
  },
  {
   "cell_type": "code",
   "execution_count": 2,
   "metadata": {},
   "outputs": [
    {
     "data": {
      "text/plain": [
       "'cuda'"
      ]
     },
     "execution_count": 2,
     "metadata": {},
     "output_type": "execute_result"
    }
   ],
   "source": [
    "device = 'cuda' if torch.cuda.is_available() else 'cpu'\n",
    "device"
   ]
  },
  {
   "attachments": {},
   "cell_type": "markdown",
   "metadata": {},
   "source": [
    "## DCGAN - Deep Convolutional GAN"
   ]
  },
  {
   "attachments": {},
   "cell_type": "markdown",
   "metadata": {},
   "source": [
    "### Dataset"
   ]
  },
  {
   "cell_type": "code",
   "execution_count": 3,
   "metadata": {},
   "outputs": [],
   "source": [
    "import torchvision \n",
    "from torchvision import transforms \n",
    "\n",
    "\n",
    "image_path = './data/'\n",
    "transform = transforms.Compose([\n",
    "    transforms.ToTensor(),\n",
    "    transforms.Normalize(mean=(0.5), std=(0.5))\n",
    "])\n",
    "mnist_dataset = torchvision.datasets.MNIST(root=image_path, \n",
    "                                           train=True, \n",
    "                                           transform=transform, \n",
    "                                           download=False)\n",
    "\n",
    "batch_size = 64\n",
    "\n",
    "torch.manual_seed(1)\n",
    "np.random.seed(1)\n",
    "\n",
    "## Set up the dataset\n",
    "from torch.utils.data import DataLoader\n",
    "mnist_dl = DataLoader(mnist_dataset, batch_size=batch_size, \n",
    "                      shuffle=True, drop_last=True)"
   ]
  },
  {
   "cell_type": "code",
   "execution_count": 4,
   "metadata": {},
   "outputs": [],
   "source": [
    "def make_generator_network(input_size, n_filters):\n",
    "\n",
    "    model = nn.Sequential(\n",
    "        nn.ConvTranspose2d(input_size, n_filters*4, kernel_size=4, stride=1, padding=0,bias=False),\n",
    "        nn.BatchNorm2d(n_filters*4),\n",
    "        nn.LeakyReLU(0.2),\n",
    "\n",
    "        nn.ConvTranspose2d(n_filters*4, n_filters*2, kernel_size=3, stride=2, padding=1,bias=False),\n",
    "        nn.BatchNorm2d(n_filters*2),\n",
    "        nn.LeakyReLU(0.2),\n",
    "\n",
    "        nn.ConvTranspose2d(n_filters*2, n_filters, kernel_size=4, stride=2, padding=1,bias=False),\n",
    "        nn.BatchNorm2d(n_filters),\n",
    "        nn.LeakyReLU(0.2),\n",
    "\n",
    "        nn.ConvTranspose2d(n_filters, 1, 4, 2, 1, bias=False),\n",
    "        nn.Tanh()\n",
    "    )\n",
    "\n",
    "    return model"
   ]
  },
  {
   "cell_type": "code",
   "execution_count": 5,
   "metadata": {},
   "outputs": [],
   "source": [
    "class Discriminator(nn.Module):\n",
    "    def __init__(self, n_filters):\n",
    "        super().__init__()\n",
    "        self.network = nn.Sequential(\n",
    "            nn.Conv2d(1, n_filters, 4, 2, 1, bias=False),\n",
    "            nn.LeakyReLU(0.2),\n",
    "\n",
    "            nn.Conv2d(n_filters, n_filters*2, 4, 2, 1, bias=False),\n",
    "            nn.BatchNorm2d(n_filters * 2),\n",
    "            nn.LeakyReLU(0.2),\n",
    "\n",
    "            nn.Conv2d(n_filters*2, n_filters*4, 3, 2, 1, bias=False),\n",
    "            nn.BatchNorm2d(n_filters*4),\n",
    "            nn.LeakyReLU(0.2),\n",
    "\n",
    "            nn.Conv2d(n_filters*4, 1, 4, 1, 0, bias=False),\n",
    "            # nn.Sigmoid()\n",
    "            )\n",
    "        \n",
    "    def forward(self, x):\n",
    "        output = self.network(x)\n",
    "        return output.view(-1, 1).squeeze(0)"
   ]
  },
  {
   "cell_type": "code",
   "execution_count": 6,
   "metadata": {},
   "outputs": [
    {
     "name": "stdout",
     "output_type": "stream",
     "text": [
      "Sequential(\n",
      "  (0): ConvTranspose2d(100, 128, kernel_size=(4, 4), stride=(1, 1), bias=False)\n",
      "  (1): BatchNorm2d(128, eps=1e-05, momentum=0.1, affine=True, track_running_stats=True)\n",
      "  (2): LeakyReLU(negative_slope=0.2)\n",
      "  (3): ConvTranspose2d(128, 64, kernel_size=(3, 3), stride=(2, 2), padding=(1, 1), bias=False)\n",
      "  (4): BatchNorm2d(64, eps=1e-05, momentum=0.1, affine=True, track_running_stats=True)\n",
      "  (5): LeakyReLU(negative_slope=0.2)\n",
      "  (6): ConvTranspose2d(64, 32, kernel_size=(4, 4), stride=(2, 2), padding=(1, 1), bias=False)\n",
      "  (7): BatchNorm2d(32, eps=1e-05, momentum=0.1, affine=True, track_running_stats=True)\n",
      "  (8): LeakyReLU(negative_slope=0.2)\n",
      "  (9): ConvTranspose2d(32, 1, kernel_size=(4, 4), stride=(2, 2), padding=(1, 1), bias=False)\n",
      "  (10): Tanh()\n",
      ")\n",
      "\n",
      "Discriminator(\n",
      "  (network): Sequential(\n",
      "    (0): Conv2d(1, 32, kernel_size=(4, 4), stride=(2, 2), padding=(1, 1), bias=False)\n",
      "    (1): LeakyReLU(negative_slope=0.2)\n",
      "    (2): Conv2d(32, 64, kernel_size=(4, 4), stride=(2, 2), padding=(1, 1), bias=False)\n",
      "    (3): BatchNorm2d(64, eps=1e-05, momentum=0.1, affine=True, track_running_stats=True)\n",
      "    (4): LeakyReLU(negative_slope=0.2)\n",
      "    (5): Conv2d(64, 128, kernel_size=(3, 3), stride=(2, 2), padding=(1, 1), bias=False)\n",
      "    (6): BatchNorm2d(128, eps=1e-05, momentum=0.1, affine=True, track_running_stats=True)\n",
      "    (7): LeakyReLU(negative_slope=0.2)\n",
      "    (8): Conv2d(128, 1, kernel_size=(4, 4), stride=(1, 1), bias=False)\n",
      "  )\n",
      ")\n"
     ]
    }
   ],
   "source": [
    "z_size = 100\n",
    "image_size = (28, 28)\n",
    "n_filters = 32 \n",
    "gen_model = make_generator_network(z_size, n_filters).to(device)\n",
    "print(gen_model)\n",
    "print()\n",
    "\n",
    "disc_model = Discriminator(n_filters=n_filters).to(device)\n",
    "print(disc_model)"
   ]
  },
  {
   "cell_type": "code",
   "execution_count": 7,
   "metadata": {},
   "outputs": [],
   "source": [
    "loss_fn = nn.BCEWithLogitsLoss()\n",
    "\n",
    "g_optimizer = torch.optim.Adam(gen_model.parameters(), lr=0.0003)\n",
    "d_optimizer = torch.optim.Adam(disc_model.parameters(), lr=0.0002)"
   ]
  },
  {
   "cell_type": "code",
   "execution_count": 8,
   "metadata": {},
   "outputs": [],
   "source": [
    "# Creating z\n",
    "def create_noise(batch_size, z_size, mode_z):\n",
    "    if mode_z == 'uniform':\n",
    "        return torch.rand(batch_size, z_size, 1, 1)*2 -1\n",
    "    elif mode_z == 'normal':\n",
    "        return torch.randn(batch_size, z_size, 1, 1)"
   ]
  },
  {
   "cell_type": "code",
   "execution_count": 9,
   "metadata": {},
   "outputs": [],
   "source": [
    "# Training the discriminator\n",
    "def d_train(x, mode_z):\n",
    "    disc_model.zero_grad()\n",
    "\n",
    "    # Training on real images\n",
    "    batch_size = x.size(0)\n",
    "    d_labels_real = torch.ones(size=(batch_size, 1), device=device)\n",
    "\n",
    "    d_proba_real = disc_model(x)\n",
    "    d_loss_real = loss_fn(d_proba_real, d_labels_real)\n",
    "\n",
    "\n",
    "    # Training on generated images\n",
    "    input_z = create_noise(batch_size, z_size, mode_z).to(device)\n",
    "    g_output = gen_model(input_z)\n",
    "\n",
    "    d_proba_fake = disc_model(g_output)\n",
    "    d_labels_fake = torch.zeros(size=(batch_size, 1), device=device)\n",
    "    d_loss_fake = loss_fn(d_proba_fake, d_labels_fake)\n",
    "\n",
    "    # Gradient backprop on discriminator only\n",
    "    #Minmax loss\n",
    "    d_loss = d_loss_real + d_loss_fake\n",
    "\n",
    "    d_loss.backward()\n",
    "    d_optimizer.step()\n",
    "\n",
    "    return d_loss.data.item(), d_proba_real.detach(), d_proba_fake.detach()"
   ]
  },
  {
   "cell_type": "code",
   "execution_count": 10,
   "metadata": {},
   "outputs": [],
   "source": [
    "# Training the generator\n",
    "def g_train(x, mode_z):\n",
    "    gen_model.zero_grad()\n",
    "\n",
    "    batch_size = x.size(0)\n",
    "    input_z = create_noise(batch_size, z_size, mode_z).to(device)\n",
    "    # Fake labels\n",
    "    # Used to train the gan more effectively.\n",
    "    # Since the d model was train on the true labels (false= false images ,true=real images), Having a fake labels as 1 will result in a higher loss which is used to train the generator in greater size.\n",
    "    g_labels_real = torch.ones( size=(batch_size, 1), device=device )\n",
    "\n",
    "    g_output = gen_model(input_z)\n",
    "    d_proba_fake = disc_model(g_output)\n",
    "    g_loss = loss_fn(d_proba_fake, g_labels_real)\n",
    "\n",
    "    g_loss.backward()\n",
    "    g_optimizer.step()\n",
    "\n",
    "    return g_loss.data.item()"
   ]
  },
  {
   "cell_type": "code",
   "execution_count": 11,
   "metadata": {},
   "outputs": [
    {
     "name": "stdout",
     "output_type": "stream",
     "text": [
      "Epoch 001 | Avg Losses >> G/D 4.6294/0.1101\n",
      "Epoch 002 | Avg Losses >> G/D 4.2991/0.1876\n",
      "Epoch 003 | Avg Losses >> G/D 3.4942/0.3102\n",
      "Epoch 004 | Avg Losses >> G/D 2.8776/0.3654\n",
      "Epoch 005 | Avg Losses >> G/D 2.7821/0.3615\n",
      "Epoch 006 | Avg Losses >> G/D 2.7874/0.3372\n",
      "Epoch 007 | Avg Losses >> G/D 2.8834/0.3325\n",
      "Epoch 008 | Avg Losses >> G/D 2.9460/0.3032\n",
      "Epoch 009 | Avg Losses >> G/D 3.0444/0.2819\n",
      "Epoch 010 | Avg Losses >> G/D 3.0948/0.2772\n",
      "Epoch 011 | Avg Losses >> G/D 3.0811/0.2671\n",
      "Epoch 012 | Avg Losses >> G/D 3.1854/0.2629\n",
      "Epoch 013 | Avg Losses >> G/D 3.2175/0.2639\n",
      "Epoch 014 | Avg Losses >> G/D 3.2640/0.2349\n",
      "Epoch 015 | Avg Losses >> G/D 3.3938/0.2207\n",
      "Epoch 016 | Avg Losses >> G/D 3.4190/0.2366\n",
      "Epoch 017 | Avg Losses >> G/D 3.4541/0.2220\n",
      "Epoch 018 | Avg Losses >> G/D 3.5671/0.2054\n",
      "Epoch 019 | Avg Losses >> G/D 3.5958/0.2050\n",
      "Epoch 020 | Avg Losses >> G/D 3.5540/0.2139\n",
      "Epoch 021 | Avg Losses >> G/D 3.6782/0.1980\n",
      "Epoch 022 | Avg Losses >> G/D 3.6486/0.2105\n",
      "Epoch 023 | Avg Losses >> G/D 3.7270/0.2012\n",
      "Epoch 024 | Avg Losses >> G/D 3.7274/0.2033\n",
      "Epoch 025 | Avg Losses >> G/D 3.8263/0.1776\n",
      "Epoch 026 | Avg Losses >> G/D 3.8416/0.1842\n",
      "Epoch 027 | Avg Losses >> G/D 3.8385/0.2028\n",
      "Epoch 028 | Avg Losses >> G/D 3.8048/0.1986\n",
      "Epoch 029 | Avg Losses >> G/D 3.9595/0.1718\n",
      "Epoch 030 | Avg Losses >> G/D 4.0126/0.1772\n",
      "Epoch 031 | Avg Losses >> G/D 3.9689/0.1770\n",
      "Epoch 032 | Avg Losses >> G/D 4.0079/0.1726\n",
      "Epoch 033 | Avg Losses >> G/D 3.9535/0.2117\n",
      "Epoch 034 | Avg Losses >> G/D 4.0729/0.1650\n",
      "Epoch 035 | Avg Losses >> G/D 4.1881/0.1427\n",
      "Epoch 036 | Avg Losses >> G/D 4.0747/0.1706\n",
      "Epoch 037 | Avg Losses >> G/D 4.1755/0.1651\n",
      "Epoch 038 | Avg Losses >> G/D 4.2541/0.1404\n",
      "Epoch 039 | Avg Losses >> G/D 4.2270/0.1635\n",
      "Epoch 040 | Avg Losses >> G/D 4.3100/0.1614\n",
      "Epoch 041 | Avg Losses >> G/D 4.3113/0.1487\n",
      "Epoch 042 | Avg Losses >> G/D 4.3704/0.1520\n",
      "Epoch 043 | Avg Losses >> G/D 4.4677/0.1306\n",
      "Epoch 044 | Avg Losses >> G/D 4.4524/0.1396\n",
      "Epoch 045 | Avg Losses >> G/D 4.3131/0.1598\n",
      "Epoch 046 | Avg Losses >> G/D 4.3394/0.1522\n",
      "Epoch 047 | Avg Losses >> G/D 4.4707/0.1324\n",
      "Epoch 048 | Avg Losses >> G/D 4.4652/0.1602\n",
      "Epoch 049 | Avg Losses >> G/D 4.5091/0.1248\n",
      "Epoch 050 | Avg Losses >> G/D 4.6516/0.1172\n",
      "Epoch 051 | Avg Losses >> G/D 4.4971/0.1590\n",
      "Epoch 052 | Avg Losses >> G/D 4.5463/0.1284\n",
      "Epoch 053 | Avg Losses >> G/D 4.6011/0.1312\n",
      "Epoch 054 | Avg Losses >> G/D 4.5412/0.1315\n",
      "Epoch 055 | Avg Losses >> G/D 4.7427/0.1215\n",
      "Epoch 056 | Avg Losses >> G/D 4.7063/0.1398\n",
      "Epoch 057 | Avg Losses >> G/D 4.5247/0.1568\n",
      "Epoch 058 | Avg Losses >> G/D 4.7279/0.0914\n",
      "Epoch 059 | Avg Losses >> G/D 4.6494/0.1341\n",
      "Epoch 060 | Avg Losses >> G/D 4.7206/0.1170\n",
      "Epoch 061 | Avg Losses >> G/D 4.7551/0.1240\n",
      "Epoch 062 | Avg Losses >> G/D 4.8123/0.1335\n",
      "Epoch 063 | Avg Losses >> G/D 4.6466/0.1388\n",
      "Epoch 064 | Avg Losses >> G/D 4.7524/0.1167\n",
      "Epoch 065 | Avg Losses >> G/D 4.7291/0.1258\n",
      "Epoch 066 | Avg Losses >> G/D 4.8473/0.1380\n",
      "Epoch 067 | Avg Losses >> G/D 4.8394/0.1214\n",
      "Epoch 068 | Avg Losses >> G/D 4.8534/0.1288\n",
      "Epoch 069 | Avg Losses >> G/D 4.8224/0.1051\n",
      "Epoch 070 | Avg Losses >> G/D 5.0131/0.1032\n",
      "Epoch 071 | Avg Losses >> G/D 4.9096/0.1196\n",
      "Epoch 072 | Avg Losses >> G/D 4.9153/0.1276\n",
      "Epoch 073 | Avg Losses >> G/D 4.8591/0.1254\n",
      "Epoch 074 | Avg Losses >> G/D 4.9987/0.1026\n",
      "Epoch 075 | Avg Losses >> G/D 5.1311/0.0719\n",
      "Epoch 076 | Avg Losses >> G/D 4.8676/0.1450\n",
      "Epoch 077 | Avg Losses >> G/D 4.9993/0.1438\n",
      "Epoch 078 | Avg Losses >> G/D 4.8972/0.0938\n",
      "Epoch 079 | Avg Losses >> G/D 5.1907/0.0773\n",
      "Epoch 080 | Avg Losses >> G/D 5.0292/0.1324\n",
      "Epoch 081 | Avg Losses >> G/D 5.0239/0.0979\n",
      "Epoch 082 | Avg Losses >> G/D 5.1069/0.1089\n",
      "Epoch 083 | Avg Losses >> G/D 5.0521/0.1192\n",
      "Epoch 084 | Avg Losses >> G/D 4.9580/0.1047\n",
      "Epoch 085 | Avg Losses >> G/D 5.1682/0.1097\n",
      "Epoch 086 | Avg Losses >> G/D 5.0068/0.0987\n",
      "Epoch 087 | Avg Losses >> G/D 5.0044/0.1349\n",
      "Epoch 088 | Avg Losses >> G/D 5.0207/0.1157\n",
      "Epoch 089 | Avg Losses >> G/D 5.1333/0.1014\n",
      "Epoch 090 | Avg Losses >> G/D 4.9475/0.1373\n",
      "Epoch 091 | Avg Losses >> G/D 5.0905/0.1007\n",
      "Epoch 092 | Avg Losses >> G/D 5.1128/0.0897\n",
      "Epoch 093 | Avg Losses >> G/D 5.1247/0.1185\n",
      "Epoch 094 | Avg Losses >> G/D 5.1703/0.0904\n",
      "Epoch 095 | Avg Losses >> G/D 5.1900/0.0924\n",
      "Epoch 096 | Avg Losses >> G/D 5.2308/0.0921\n",
      "Epoch 097 | Avg Losses >> G/D 5.1156/0.1179\n",
      "Epoch 098 | Avg Losses >> G/D 5.2070/0.0975\n",
      "Epoch 099 | Avg Losses >> G/D 5.2716/0.0957\n",
      "Epoch 100 | Avg Losses >> G/D 5.3261/0.0808\n"
     ]
    }
   ],
   "source": [
    "mode_z = 'normal'\n",
    "fixed_z = create_noise(batch_size, z_size, mode_z).to(device)\n",
    "\n",
    "def create_samples(g_model, input_z):\n",
    "    g_output = g_model(input_z)\n",
    "    images = torch.reshape(g_output, (batch_size, *image_size))\n",
    "    return (images+1) / 2. \n",
    "\n",
    "epoch_samples = []\n",
    "\n",
    "num_epochs = 100\n",
    "torch.manual_seed(1)\n",
    "\n",
    "for epoch in range(1, num_epochs+1):\n",
    "    gen_model.train()\n",
    "    d_losses, g_losses = [], []\n",
    "\n",
    "    for i, (x,_) in enumerate(mnist_dl):\n",
    "        x = x.to(device)\n",
    "        \n",
    "        d_loss, d_proba_real, d_proba_fake = d_train(x, mode_z)\n",
    "        d_losses.append(d_loss)\n",
    "        g_losses.append(g_train(x, mode_z))\n",
    "\n",
    "    print(f'Epoch {epoch:03d} | Avg Losses >> ' + f'G/D {torch.FloatTensor(g_losses).mean():.4f}' + f'/{torch.FloatTensor(d_losses).mean():.4f}')\n",
    "\n",
    "    gen_model.eval()\n",
    "    epoch_samples.append(create_samples(gen_model, fixed_z).detach().cpu().numpy())"
   ]
  },
  {
   "cell_type": "code",
   "execution_count": 14,
   "metadata": {},
   "outputs": [
    {
     "data": {
      "image/png": "[encoded data removed]",
      "text/plain": [
       "<Figure size 1000x1400 with 30 Axes>"
      ]
     },
     "metadata": {},
     "output_type": "display_data"
    }
   ],
   "source": [
    "selected_epochs = [1, 2, 4, 10, 50, 100]\n",
    "fig = plt.figure(figsize=(10, 14))\n",
    "\n",
    "for i,e in enumerate(selected_epochs):\n",
    "    for j in range(5):\n",
    "        ax = fig.add_subplot(6, 5, i*5+j+1)\n",
    "        ax.set_xticks([])\n",
    "        ax.set_yticks([])\n",
    "        if j == 0:\n",
    "            ax.set_ylabel(f'Epoch {e}', size=18)\n",
    "            # ax.text(\n",
    "            #     -0.06, 0.5, f'Epoch {e}',\n",
    "            #     rotation=90, size=18, color='red',\n",
    "            #     horizontalalignment='right',\n",
    "            #     verticalalignment='center', \n",
    "            #     transform=ax.transAxes)\n",
    "        \n",
    "        image = epoch_samples[e-1][j]\n",
    "        ax.imshow(image, cmap='gray_r')\n",
    "    \n",
    "plt.show()"
   ]
  },
  {
   "cell_type": "code",
   "execution_count": null,
   "metadata": {},
   "outputs": [],
   "source": []
  }
 ],
 "metadata": {
  "kernelspec": {
   "display_name": "pytorch",
   "language": "python",
   "name": "python3"
  },
  "language_info": {
   "codemirror_mode": {
    "name": "ipython",
    "version": 3
   },
   "file_extension": ".py",
   "mimetype": "text/x-python",
   "name": "python",
   "nbconvert_exporter": "python",
   "pygments_lexer": "ipython3",
   "version": "3.10.9"
  },
  "orig_nbformat": 4,
  "vscode": {
   "interpreter": {
    "hash": "87998d4b2a08f200e53bd85c2d7b01bf2b69127f748e5c1e9a18138bae014c82"
   }
  }
 },
 "nbformat": 4,
 "nbformat_minor": 2
}
