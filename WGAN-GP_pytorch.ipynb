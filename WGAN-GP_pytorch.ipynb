{
 "cells": [
  {
   "cell_type": "code",
   "execution_count": 1,
   "metadata": {},
   "outputs": [
    {
     "data": {
      "text/plain": [
       "'1.13.1'"
      ]
     },
     "execution_count": 1,
     "metadata": {},
     "output_type": "execute_result"
    }
   ],
   "source": [
    "import numpy as np \n",
    "import pandas as pd \n",
    "import matplotlib.pyplot as plt \n",
    "\n",
    "import torch \n",
    "from torch import nn \n",
    "from torch.nn import functional as F\n",
    "\n",
    "torch.__version__"
   ]
  },
  {
   "cell_type": "code",
   "execution_count": 2,
   "metadata": {},
   "outputs": [],
   "source": [
    "device = 'cuda' if torch.cuda.is_available() else 'cpu'"
   ]
  },
  {
   "attachments": {},
   "cell_type": "markdown",
   "metadata": {},
   "source": [
    "## WGAN-GP"
   ]
  },
  {
   "cell_type": "code",
   "execution_count": 3,
   "metadata": {},
   "outputs": [
    {
     "name": "stdout",
     "output_type": "stream",
     "text": [
      "Downloading http://yann.lecun.com/exdb/mnist/train-images-idx3-ubyte.gz\n",
      "Downloading http://yann.lecun.com/exdb/mnist/train-images-idx3-ubyte.gz to ./MNIST/raw/train-images-idx3-ubyte.gz\n"
     ]
    },
    {
     "data": {
      "application/vnd.jupyter.widget-view+json": {
       "model_id": "52e89b5470dc4927a543e0b7e6f30367",
       "version_major": 2,
       "version_minor": 0
      },
      "text/plain": [
       "  0%|          | 0/9912422 [00:00<?, ?it/s]"
      ]
     },
     "metadata": {},
     "output_type": "display_data"
    },
    {
     "name": "stdout",
     "output_type": "stream",
     "text": [
      "Extracting ./MNIST/raw/train-images-idx3-ubyte.gz to ./MNIST/raw\n",
      "\n",
      "Downloading http://yann.lecun.com/exdb/mnist/train-labels-idx1-ubyte.gz\n",
      "Downloading http://yann.lecun.com/exdb/mnist/train-labels-idx1-ubyte.gz to ./MNIST/raw/train-labels-idx1-ubyte.gz\n"
     ]
    },
    {
     "data": {
      "application/vnd.jupyter.widget-view+json": {
       "model_id": "b0c015572571450cb3fd8032b35bc3dc",
       "version_major": 2,
       "version_minor": 0
      },
      "text/plain": [
       "  0%|          | 0/28881 [00:00<?, ?it/s]"
      ]
     },
     "metadata": {},
     "output_type": "display_data"
    },
    {
     "name": "stdout",
     "output_type": "stream",
     "text": [
      "Extracting ./MNIST/raw/train-labels-idx1-ubyte.gz to ./MNIST/raw\n",
      "\n",
      "Downloading http://yann.lecun.com/exdb/mnist/t10k-images-idx3-ubyte.gz\n",
      "Downloading http://yann.lecun.com/exdb/mnist/t10k-images-idx3-ubyte.gz to ./MNIST/raw/t10k-images-idx3-ubyte.gz\n"
     ]
    },
    {
     "data": {
      "application/vnd.jupyter.widget-view+json": {
       "model_id": "0f4594766ec54e2eb71fcbaf76c81887",
       "version_major": 2,
       "version_minor": 0
      },
      "text/plain": [
       "  0%|          | 0/1648877 [00:00<?, ?it/s]"
      ]
     },
     "metadata": {},
     "output_type": "display_data"
    },
    {
     "name": "stdout",
     "output_type": "stream",
     "text": [
      "Extracting ./MNIST/raw/t10k-images-idx3-ubyte.gz to ./MNIST/raw\n",
      "\n",
      "Downloading http://yann.lecun.com/exdb/mnist/t10k-labels-idx1-ubyte.gz\n",
      "Downloading http://yann.lecun.com/exdb/mnist/t10k-labels-idx1-ubyte.gz to ./MNIST/raw/t10k-labels-idx1-ubyte.gz\n"
     ]
    },
    {
     "data": {
      "application/vnd.jupyter.widget-view+json": {
       "model_id": "5d55aaa433ba46e1ac98dd3bfba2820a",
       "version_major": 2,
       "version_minor": 0
      },
      "text/plain": [
       "  0%|          | 0/4542 [00:00<?, ?it/s]"
      ]
     },
     "metadata": {},
     "output_type": "display_data"
    },
    {
     "name": "stdout",
     "output_type": "stream",
     "text": [
      "Extracting ./MNIST/raw/t10k-labels-idx1-ubyte.gz to ./MNIST/raw\n",
      "\n"
     ]
    }
   ],
   "source": [
    "import torchvision \n",
    "from torchvision import transforms \n",
    "\n",
    "\n",
    "image_path = './'\n",
    "transform = transforms.Compose([\n",
    "    transforms.ToTensor(),\n",
    "    transforms.Normalize(mean=(0.5), std=(0.5))\n",
    "])\n",
    "mnist_dataset = torchvision.datasets.MNIST(root=image_path, \n",
    "                                           train=True, \n",
    "                                           transform=transform, \n",
    "                                           download=True)\n",
    "\n",
    "batch_size = 64\n",
    "\n",
    "torch.manual_seed(1)\n",
    "np.random.seed(1)\n",
    "\n",
    "## Set up the dataset\n",
    "from torch.utils.data import DataLoader\n",
    "mnist_dl = DataLoader(mnist_dataset, batch_size=batch_size, \n",
    "                      shuffle=True, drop_last=True)"
   ]
  },
  {
   "cell_type": "code",
   "execution_count": 4,
   "metadata": {},
   "outputs": [],
   "source": [
    "def create_noise(batch_size, z_size, mode_z):\n",
    "    if mode_z == 'uniform':\n",
    "        input_z = torch.rand(batch_size, z_size, 1, 1)*2 - 1 \n",
    "    elif mode_z == 'normal':\n",
    "        input_z = torch.randn(batch_size, z_size, 1, 1)\n",
    "    return input_z"
   ]
  },
  {
   "cell_type": "code",
   "execution_count": 5,
   "metadata": {},
   "outputs": [],
   "source": [
    "def make_generator_network_wgan(input_size, n_filters):\n",
    "    model = nn.Sequential(\n",
    "        nn.ConvTranspose2d(input_size, n_filters*4, 4, 1, 0, \n",
    "                           bias=False),\n",
    "        nn.InstanceNorm2d(n_filters*4),\n",
    "        nn.LeakyReLU(0.2),\n",
    "\n",
    "        nn.ConvTranspose2d(n_filters*4, n_filters*2, 3, 2, 1, bias=False),\n",
    "        nn.InstanceNorm2d(n_filters*2),\n",
    "        nn.LeakyReLU(0.2),\n",
    "\n",
    "        nn.ConvTranspose2d(n_filters*2, n_filters, 4, 2, 1, bias=False),\n",
    "        nn.InstanceNorm2d(n_filters),\n",
    "        nn.LeakyReLU(0.2),\n",
    "\n",
    "        nn.ConvTranspose2d(n_filters, 1, 4, 2, 1, bias=False),\n",
    "        nn.Tanh())\n",
    "    return model"
   ]
  },
  {
   "cell_type": "code",
   "execution_count": 6,
   "metadata": {},
   "outputs": [],
   "source": [
    "class DiscriminatorWGAN(nn.Module):\n",
    "    def __init__(self, n_filters):\n",
    "        super().__init__()\n",
    "        \n",
    "        self.network = nn.Sequential(\n",
    "            nn.Conv2d(1, n_filters, 4, 2, 1, bias=False),\n",
    "            nn.LeakyReLU(0.2),\n",
    "\n",
    "            nn.Conv2d(n_filters, n_filters*2, 4, 2, 1, bias=False),\n",
    "            nn.InstanceNorm2d(n_filters * 2),\n",
    "            nn.LeakyReLU(0.2),\n",
    "\n",
    "            nn.Conv2d(n_filters*2, n_filters*4, 3, 2, 1, bias=False),\n",
    "            nn.InstanceNorm2d(n_filters*4),\n",
    "            nn.LeakyReLU(0.2),\n",
    "\n",
    "            nn.Conv2d(n_filters*4, 1, 4, 1, 0, bias=False),\n",
    "            nn.Sigmoid())\n",
    "        \n",
    "    def forward(self, input):\n",
    "        output = self.network(input)\n",
    "        return output.view(-1, 1).squeeze(0)"
   ]
  },
  {
   "cell_type": "code",
   "execution_count": 7,
   "metadata": {},
   "outputs": [],
   "source": [
    "z_size = 100\n",
    "image_size = (28, 28)\n",
    "n_filters = 32\n",
    "\n",
    "mode_z = 'normal'"
   ]
  },
  {
   "cell_type": "code",
   "execution_count": 8,
   "metadata": {},
   "outputs": [],
   "source": [
    "gen_model = make_generator_network_wgan(z_size, n_filters).to(device)  \n",
    "disc_model = DiscriminatorWGAN(n_filters).to(device)  \n",
    "\n",
    "g_optimizer = torch.optim.Adam(gen_model.parameters(), 0.0002)\n",
    "d_optimizer = torch.optim.Adam(disc_model.parameters(), 0.0002)"
   ]
  },
  {
   "cell_type": "code",
   "execution_count": 9,
   "metadata": {},
   "outputs": [],
   "source": [
    "from torch.autograd import grad as torch_grad\n",
    "\n",
    "\n",
    "def gradient_penalty(real_data, generated_data):\n",
    "    batch_size = real_data.size(0)\n",
    "\n",
    "    # Calculate interpolation\n",
    "    alpha = torch.rand(real_data.shape[0], 1, 1, 1, requires_grad=True, device=device)\n",
    "    interpolated = alpha * real_data + (1 - alpha) * generated_data\n",
    "    \n",
    "    # Calculate probability of interpolated examples\n",
    "    proba_interpolated = disc_model(interpolated)\n",
    "\n",
    "    # Calculate gradients of probabilities with respect to examples\n",
    "    gradients = torch_grad(outputs=proba_interpolated, inputs=interpolated,\n",
    "                           grad_outputs=torch.ones(proba_interpolated.size(), device=device),\n",
    "                           create_graph=True, retain_graph=True)[0]\n",
    "\n",
    "    gradients = gradients.view(batch_size, -1)\n",
    "    gradients_norm = gradients.norm(2, dim=1)\n",
    "    return lambda_gp * ((gradients_norm - 1)**2).mean()"
   ]
  },
  {
   "cell_type": "code",
   "execution_count": 10,
   "metadata": {},
   "outputs": [],
   "source": [
    "## Train the discriminator\n",
    "def d_train_wgan(x):\n",
    "    disc_model.zero_grad()\n",
    "\n",
    "    batch_size = x.size(0)\n",
    "    x = x.to(device)\n",
    "\n",
    "    # Calculate probabilities on real and generated data\n",
    "    d_real = disc_model(x)\n",
    "    input_z = create_noise(batch_size, z_size, mode_z).to(device)\n",
    "    g_output = gen_model(input_z)\n",
    "    d_generated = disc_model(g_output)\n",
    "    d_loss = d_generated.mean() - d_real.mean() + gradient_penalty(x.data, g_output.data)\n",
    "    d_loss.backward()\n",
    "    d_optimizer.step()\n",
    "  \n",
    "    return d_loss.data.item()"
   ]
  },
  {
   "cell_type": "code",
   "execution_count": 11,
   "metadata": {},
   "outputs": [],
   "source": [
    "## Train the generator\n",
    "def g_train_wgan(x):\n",
    "    gen_model.zero_grad()\n",
    "    \n",
    "    batch_size = x.size(0)\n",
    "    input_z = create_noise(batch_size, z_size, mode_z).to(device)\n",
    "    g_output = gen_model(input_z)\n",
    "    \n",
    "    d_generated = disc_model(g_output)\n",
    "    g_loss = -d_generated.mean()\n",
    "\n",
    "    # gradient backprop & optimize ONLY G's parameters\n",
    "    g_loss.backward()\n",
    "    g_optimizer.step()\n",
    "        \n",
    "    return g_loss.data.item()"
   ]
  },
  {
   "cell_type": "code",
   "execution_count": 12,
   "metadata": {},
   "outputs": [],
   "source": [
    "fixed_z = create_noise(batch_size, z_size, mode_z).to(device)\n",
    "\n",
    "def create_samples(g_model, input_z):\n",
    "    g_output = g_model(input_z)\n",
    "    images = torch.reshape(g_output, (batch_size, *image_size))    \n",
    "    return (images+1)/2.0"
   ]
  },
  {
   "cell_type": "code",
   "execution_count": 13,
   "metadata": {},
   "outputs": [
    {
     "name": "stdout",
     "output_type": "stream",
     "text": [
      "Epoch 001 | D Loss >> -0.2753\n",
      "Epoch 002 | D Loss >> -0.5320\n",
      "Epoch 003 | D Loss >> -0.5962\n",
      "Epoch 004 | D Loss >> -0.6083\n",
      "Epoch 005 | D Loss >> -0.6464\n",
      "Epoch 006 | D Loss >> -0.5897\n",
      "Epoch 007 | D Loss >> -0.5647\n",
      "Epoch 008 | D Loss >> -0.5583\n",
      "Epoch 009 | D Loss >> -0.5426\n",
      "Epoch 010 | D Loss >> -0.5268\n",
      "Epoch 011 | D Loss >> -0.5125\n",
      "Epoch 012 | D Loss >> -0.5011\n",
      "Epoch 013 | D Loss >> -0.4905\n",
      "Epoch 014 | D Loss >> -0.4840\n",
      "Epoch 015 | D Loss >> -0.4768\n",
      "Epoch 016 | D Loss >> -0.4766\n",
      "Epoch 017 | D Loss >> -0.4712\n",
      "Epoch 018 | D Loss >> -0.4745\n",
      "Epoch 019 | D Loss >> -0.4719\n",
      "Epoch 020 | D Loss >> -0.4726\n",
      "Epoch 021 | D Loss >> -0.4668\n",
      "Epoch 022 | D Loss >> -0.4702\n",
      "Epoch 023 | D Loss >> -0.4647\n",
      "Epoch 024 | D Loss >> -0.4616\n",
      "Epoch 025 | D Loss >> -0.4580\n",
      "Epoch 026 | D Loss >> -0.4668\n",
      "Epoch 027 | D Loss >> -0.4630\n",
      "Epoch 028 | D Loss >> -0.4669\n",
      "Epoch 029 | D Loss >> -0.4695\n",
      "Epoch 030 | D Loss >> -0.4667\n",
      "Epoch 031 | D Loss >> -0.4690\n",
      "Epoch 032 | D Loss >> -0.4704\n",
      "Epoch 033 | D Loss >> -0.4666\n",
      "Epoch 034 | D Loss >> -0.4733\n",
      "Epoch 035 | D Loss >> -0.4718\n",
      "Epoch 036 | D Loss >> -0.4706\n",
      "Epoch 037 | D Loss >> -0.4706\n",
      "Epoch 038 | D Loss >> -0.4701\n",
      "Epoch 039 | D Loss >> -0.4749\n",
      "Epoch 040 | D Loss >> -0.4701\n",
      "Epoch 041 | D Loss >> -0.4772\n",
      "Epoch 042 | D Loss >> -0.4728\n",
      "Epoch 043 | D Loss >> -0.4811\n",
      "Epoch 044 | D Loss >> -0.4711\n",
      "Epoch 045 | D Loss >> -0.4755\n",
      "Epoch 046 | D Loss >> -0.4737\n",
      "Epoch 047 | D Loss >> -0.4747\n",
      "Epoch 048 | D Loss >> -0.4778\n",
      "Epoch 049 | D Loss >> -0.4753\n",
      "Epoch 050 | D Loss >> -0.4758\n",
      "Epoch 051 | D Loss >> -0.4755\n",
      "Epoch 052 | D Loss >> -0.4773\n",
      "Epoch 053 | D Loss >> -0.4714\n",
      "Epoch 054 | D Loss >> -0.4793\n",
      "Epoch 055 | D Loss >> -0.4801\n",
      "Epoch 056 | D Loss >> -0.4758\n",
      "Epoch 057 | D Loss >> -0.4808\n",
      "Epoch 058 | D Loss >> -0.4824\n",
      "Epoch 059 | D Loss >> -0.4828\n",
      "Epoch 060 | D Loss >> -0.4828\n",
      "Epoch 061 | D Loss >> -0.4813\n",
      "Epoch 062 | D Loss >> -0.4822\n",
      "Epoch 063 | D Loss >> -0.4839\n",
      "Epoch 064 | D Loss >> -0.4795\n",
      "Epoch 065 | D Loss >> -0.4774\n",
      "Epoch 066 | D Loss >> -0.4773\n",
      "Epoch 067 | D Loss >> -0.4802\n",
      "Epoch 068 | D Loss >> -0.4820\n",
      "Epoch 069 | D Loss >> -0.4851\n",
      "Epoch 070 | D Loss >> -0.4824\n",
      "Epoch 071 | D Loss >> -0.4841\n",
      "Epoch 072 | D Loss >> -0.4793\n",
      "Epoch 073 | D Loss >> -0.4807\n",
      "Epoch 074 | D Loss >> -0.4791\n",
      "Epoch 075 | D Loss >> -0.4829\n",
      "Epoch 076 | D Loss >> -0.4814\n",
      "Epoch 077 | D Loss >> -0.4819\n",
      "Epoch 078 | D Loss >> -0.4815\n",
      "Epoch 079 | D Loss >> -0.4800\n",
      "Epoch 080 | D Loss >> -0.4786\n",
      "Epoch 081 | D Loss >> -0.4812\n",
      "Epoch 082 | D Loss >> -0.4837\n",
      "Epoch 083 | D Loss >> -0.4870\n",
      "Epoch 084 | D Loss >> -0.4824\n",
      "Epoch 085 | D Loss >> -0.4828\n",
      "Epoch 086 | D Loss >> -0.4862\n",
      "Epoch 087 | D Loss >> -0.4830\n",
      "Epoch 088 | D Loss >> -0.4860\n",
      "Epoch 089 | D Loss >> -0.4850\n",
      "Epoch 090 | D Loss >> -0.4851\n",
      "Epoch 091 | D Loss >> -0.4834\n",
      "Epoch 092 | D Loss >> -0.4846\n",
      "Epoch 093 | D Loss >> -0.4854\n",
      "Epoch 094 | D Loss >> -0.4875\n",
      "Epoch 095 | D Loss >> -0.4809\n",
      "Epoch 096 | D Loss >> -0.4820\n",
      "Epoch 097 | D Loss >> -0.4850\n",
      "Epoch 098 | D Loss >> -0.4825\n",
      "Epoch 099 | D Loss >> -0.4859\n",
      "Epoch 100 | D Loss >> -0.4847\n"
     ]
    }
   ],
   "source": [
    "epoch_samples_wgan = []\n",
    "lambda_gp = 10.0\n",
    "num_epochs = 100\n",
    "torch.manual_seed(1)\n",
    "critic_iterations = 5 \n",
    "\n",
    "for epoch in range(1, num_epochs+1):    \n",
    "    gen_model.train()\n",
    "    d_losses, g_losses = [], []\n",
    "    for i, (x, _) in enumerate(mnist_dl):\n",
    "        for _ in range(critic_iterations):\n",
    "            d_loss = d_train_wgan(x)\n",
    "        d_losses.append(d_loss)\n",
    "        g_losses.append(g_train_wgan(x))\n",
    " \n",
    "    print(f'Epoch {epoch:03d} | D Loss >>'\n",
    "          f' {torch.FloatTensor(d_losses).mean():.4f}')\n",
    "    gen_model.eval()\n",
    "    epoch_samples_wgan.append(\n",
    "        create_samples(gen_model, fixed_z).detach().cpu().numpy())"
   ]
  },
  {
   "cell_type": "code",
   "execution_count": 14,
   "metadata": {},
   "outputs": [
    {
     "data": {
      "image/png": "[encoded data removed]",
      "text/plain": [
       "<Figure size 1000x1400 with 30 Axes>"
      ]
     },
     "metadata": {},
     "output_type": "display_data"
    }
   ],
   "source": [
    "selected_epochs = [1, 2, 4, 10, 50, 100]\n",
    "# selected_epochs = [1, 10, 20, 30, 50, 70]\n",
    "fig = plt.figure(figsize=(10, 14))\n",
    "for i,e in enumerate(selected_epochs):\n",
    "    for j in range(5):\n",
    "        ax = fig.add_subplot(6, 5, i*5+j+1)\n",
    "        ax.set_xticks([])\n",
    "        ax.set_yticks([])\n",
    "        if j == 0:\n",
    "            ax.text(\n",
    "                -0.06, 0.5, f'Epoch {e}',\n",
    "                rotation=90, size=18, color='red',\n",
    "                horizontalalignment='right',\n",
    "                verticalalignment='center', \n",
    "                transform=ax.transAxes)\n",
    "        \n",
    "        image = epoch_samples_wgan[e-1][j]\n",
    "        ax.imshow(image, cmap='gray_r')\n",
    "    \n",
    "plt.show()"
   ]
  },
  {
   "cell_type": "code",
   "execution_count": null,
   "metadata": {},
   "outputs": [],
   "source": []
  }
 ],
 "metadata": {
  "kernelspec": {
   "display_name": "pytorch",
   "language": "python",
   "name": "python3"
  },
  "language_info": {
   "codemirror_mode": {
    "name": "ipython",
    "version": 3
   },
   "file_extension": ".py",
   "mimetype": "text/x-python",
   "name": "python",
   "nbconvert_exporter": "python",
   "pygments_lexer": "ipython3",
   "version": "3.10.9"
  },
  "orig_nbformat": 4,
  "vscode": {
   "interpreter": {
    "hash": "87998d4b2a08f200e53bd85c2d7b01bf2b69127f748e5c1e9a18138bae014c82"
   }
  }
 },
 "nbformat": 4,
 "nbformat_minor": 2
}
